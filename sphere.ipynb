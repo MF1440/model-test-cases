{
 "cells": [
  {
   "cell_type": "markdown",
   "id": "3abbd8d3",
   "metadata": {},
   "source": [
    "10. Реализуйте вычислительную процедуру, позволяющую равномерно расположить N точек на поверхности сферической Земли. Воспользовавшись этой процедурой, разделите поверхность Земли на 64000 примерно одинаковых областей (сот). Назначьте всем сотам номера от 1 до 1008 так, чтобы максимизировать минимальное расстояние между центрами сот с одинаковыми номерами."
   ]
  },
  {
   "cell_type": "markdown",
   "id": "290d9309",
   "metadata": {},
   "source": [
    "## Часть 1. Расстановка точек на сфере\n",
    "Пытаемся найти на сфере точки $\\{x_i\\}_{i=1}^n$:\n",
    "$$\\min_{i\\neq j}|x_i - x_j| -> \\max $$\n",
    "\n",
    "Описание алгоритма.\n",
    "\n",
    "Задача решается методом деления пополам. Подбирается такое максимальное $d$, что можно расположить $N$ точек на сфере так, что все попарные расстояния не меньше чем $d$. \n",
    "\n",
    "При фиксированном $d$ алгоритм размещения точек следующий. Берем начальную точку $(1,0,0)$, строим вторую точку на расстоянии $d$ от нее. Далее, если уже размещено $k$ точек, то для каждой пары точек из них находим пару точек равноудаленных от них на расстоянии $d$. Из всех таких точек выбираем ту, которая ближе всех к начальной точке и находится на расстоянии не менее $d$ от уже размещенных. Эту точку размещаем на сфере и продолжаем пробовать добавить еще пока это возможно.\n",
    "\n",
    "Далее считается, что сфера едничного радиуса."
   ]
  },
  {
   "cell_type": "code",
   "execution_count": 1,
   "id": "5a5e86e7",
   "metadata": {},
   "outputs": [],
   "source": [
    "import numpy as np\n",
    "import matplotlib.pyplot as plt\n",
    "import queue\n",
    "import time"
   ]
  },
  {
   "cell_type": "code",
   "execution_count": 19,
   "id": "aa752904",
   "metadata": {},
   "outputs": [],
   "source": [
    "# Функция по двум точкам на сфере a и b находит пару точек на сфере\n",
    "# равноудаленных от этих двух точек и находящихся на расстоянии d\n",
    "def GetPointsOnDistanceD(a, b, d):\n",
    "    vec_e = (a + b) / np.linalg.norm(a + b)\n",
    "    h = (2 - d * d) / vec_e.dot(b) / 2\n",
    "    if h * h > 1.0:\n",
    "        return None, None\n",
    "    xh = (1 - h * h)**0.5\n",
    "    vec_p = np.cross(a, b)\n",
    "    vec_p /= np.linalg.norm(vec_p)\n",
    "    return (vec_e * h + vec_p * xh, vec_e * h - vec_p * xh)"
   ]
  },
  {
   "cell_type": "markdown",
   "id": "766e0170",
   "metadata": {},
   "source": [
    "Проверим предыдущую функцию на правильном тетраэдре. Для него радиус описанной окужности и длина ребра связаны соотношением:\n",
    "$$R = \\frac{\\sqrt{6}}{4}a$$\n",
    "Первая вершину зададим вектором (1,0,0), вторую - вектором $(\\cos\\alpha,\\sin\\alpha,0) $. Зная длину ребра, получаем: $\\cos\\alpha = -\\frac{1}{3}$. По этим 2 вершинам находим оставшиеся 2 и проверяем попарные расстояния."
   ]
  },
  {
   "cell_type": "code",
   "execution_count": 3,
   "id": "6feff556",
   "metadata": {},
   "outputs": [
    {
     "name": "stdout",
     "output_type": "stream",
     "text": [
      "Функция GetPointsOnDistanceD успешно проверена на правильном тетраэдре!\n"
     ]
    }
   ],
   "source": [
    "def CheckVectorLength(v, d, eps=1e-10):\n",
    "    assert abs(np.linalg.norm(v) - d) < eps, f'Длина вектора равна {np.linalg.norm(v)}, ожидали {d}'\n",
    "    \n",
    "def GetStartPoints(d):\n",
    "    x = 1.0 - d * d / 2\n",
    "    y = (1.0 - x * x) ** 0.5\n",
    "    return np.array([1.0, 0.0, 0.0]), np.array([x, y, 0.0])\n",
    "\n",
    "def CheckGetPointsOnDistanceD():\n",
    "    d = 4.0 / 6.0**0.5\n",
    "    a, b = np.array([1.0, 0.0, 0.0]), np.array([-1.0 / 3.0, 8.0**0.5 / 3.0, 0])\n",
    "    v1, v2 = GetPointsOnDistanceD(a, b, d)\n",
    "    points = [a, b, v1, v2]\n",
    "    # Проверим, что длины векторов 1\n",
    "    for p in points:\n",
    "        CheckVectorLength(p, 1.0)\n",
    "    # Проверим, что попарные расстояния между точками равны 4/sqrt(6)\n",
    "    for i in range(4):\n",
    "        for j in range(i+1, 4):\n",
    "            CheckVectorLength(points[i] - points[j], d)\n",
    "    print('Функция GetPointsOnDistanceD успешно проверена на правильном тетраэдре!')\n",
    "    \n",
    "CheckGetPointsOnDistanceD()"
   ]
  },
  {
   "cell_type": "code",
   "execution_count": 15,
   "id": "6c9d8315",
   "metadata": {},
   "outputs": [],
   "source": [
    "# Основная функция, пытается разместить n точек на сфере чтобы попарные расстояния были не меньше d\n",
    "def PlacePointsOnSphereFixedLength(n, d):\n",
    "    count = 1\n",
    "    result = np.zeros((n, 3))\n",
    "    main_point, first = GetStartPoints(d)\n",
    "    # В очереди хранятся все точки кандидаты на добавление\n",
    "    work = queue.PriorityQueue()    \n",
    "    result[0,:] = main_point\n",
    "    \n",
    "    def AddPoint(point):\n",
    "        if point is not None:\n",
    "            dist = (point[0] - 1)**2 + point[1]**2 + point[2]**2\n",
    "            work.put((dist, point[0], point[1], point[2]))\n",
    "\n",
    "    AddPoint(first)            \n",
    "    eps = 1e-10\n",
    "    d2_min = d**2 - eps\n",
    "    d2_max = 4 * d**2 - eps\n",
    "    \n",
    "    while count < n and not work.empty():\n",
    "        point = np.array(work.get()[1:])\n",
    "        all_distances = np.sum((result[:count,:] - point[None,:])**2, axis=1)\n",
    "        # Проверяем, что расстояния до всех точек не меньше d\n",
    "        if not np.all(all_distances > d2_min):\n",
    "            continue            \n",
    "        result[count,:] = point\n",
    "        count += 1\n",
    "        # Для каждой уже добавленной точки, расстояние до которой меньше 2d добавляем в очередь\n",
    "        # пару точек находящихся на расстоянии d от этой точки и новой\n",
    "        for index in np.where(all_distances < d2_max)[0]:\n",
    "            p1, p2 = GetPointsOnDistanceD(result[index,:], point, d)\n",
    "            AddPoint(p1)\n",
    "            AddPoint(p2)\n",
    "        \n",
    "    return result[:count,:]\n",
    "\n",
    "# Функция методом деления пополам пробует подобрать такое d, что можно разместить n точек \n",
    "# для которых все попарные расстояния не меньше d\n",
    "def PlacePointsOnSphere(n, eps = 1e-6, verbose=True):\n",
    "    if verbose:\n",
    "        print(f'Start search points on sphere, n = {n}')\n",
    "    d1, d2 = 1e-3, 1.9\n",
    "    time_start = time.time()\n",
    "    last_result = None\n",
    "    while d2 - d1 > eps:\n",
    "        d = (d1 + d2) / 2\n",
    "        t1 = time.time()\n",
    "        result = PlacePointsOnSphereFixedLength(n, d)\n",
    "        if result.shape[0] < n:\n",
    "            d2 = d\n",
    "        else:\n",
    "            last_result = result\n",
    "            d1 = d\n",
    "        t2 = time.time()\n",
    "        if verbose:\n",
    "            print(f'\\td = {d:8.6f}, time = {t2 - t1:7.2f}, points = {result.shape[0]:5}')\n",
    "            \n",
    "    if verbose:\n",
    "        seconds = int(time.time() - time_start)\n",
    "        print(f'Total time: {seconds // 60}:{seconds % 60:02} sec.')\n",
    "\n",
    "    return last_result\n",
    "\n",
    "# Проверить размещение точек, что все лежат на сфере.\n",
    "# Возвращает min и max по всем точкам расстояния до ближайшего соседа\n",
    "def CheckPointsOnSphere(points):\n",
    "    eps = 1e-10\n",
    "    assert np.max(np.abs(np.sum(points**2, axis=1) - 1)) < eps, 'Lengt.hs of vectors not equal 1.0!'\n",
    "    n = points.shape[0]\n",
    "    d_min, d_max = 1e6, 0.0\n",
    "    for i in range(1, n):\n",
    "        d_cur = np.min(np.sum((points[i,:] - points[:i,:])**2, axis=1))\n",
    "        d_min = min(d_cur, d_min)\n",
    "        d_max = max(d_cur, d_max)\n",
    "    d_min, d_max = d_min**0.5, d_max**0.5\n",
    "    return d_min, d_max, f'[{d_min:12.10f}, {d_max:12.10f}] {d_max - d_min:12.10f}'\n",
    "\n",
    "def SaveResults(points, filename):\n",
    "    f = open(filename, 'w')\n",
    "    for i in range(points.shape[0]):\n",
    "        f.write(f'{points[i][0]} {points[i][1]} {points[i][2]}\\n')\n",
    "    f.close()"
   ]
  },
  {
   "cell_type": "markdown",
   "id": "8a91e897",
   "metadata": {},
   "source": [
    "Проверим на правильном икосаэдре. У него 12 вершин. Длина ребра равна:\n",
    "$$ \\frac{4}{\\sqrt{2(5 + \\sqrt{5})}}$$"
   ]
  },
  {
   "cell_type": "code",
   "execution_count": 23,
   "id": "84675612",
   "metadata": {},
   "outputs": [
    {
     "name": "stdout",
     "output_type": "stream",
     "text": [
      "Вычисленное значение:   1.0514622242134937\n",
      "Теоретическое значение: 1.0514622242382672\n"
     ]
    }
   ],
   "source": [
    "points12 = PlacePointsOnSphere(12, verbose=False, eps=1e-10)\n",
    "print(f'Вычисленное значение:   {CheckPointsOnSphere(points12)[0]}')\n",
    "real_edge = 4 / (2 * (5 + 5 ** 0.5)) ** 0.5\n",
    "print(f'Теоретическое значение: {real_edge}')"
   ]
  },
  {
   "cell_type": "markdown",
   "id": "2a675084",
   "metadata": {},
   "source": [
    "800 вершин:"
   ]
  },
  {
   "cell_type": "code",
   "execution_count": 5,
   "id": "dc6cf8c1",
   "metadata": {},
   "outputs": [
    {
     "name": "stdout",
     "output_type": "stream",
     "text": [
      "Start search points on sphere, n = 800\n",
      "\td = 1.000500, time =    0.01, points =    12\n",
      "\td = 0.500750, time =    0.03, points =    50\n",
      "\td = 0.250875, time =    0.13, points =   207\n",
      "\td = 0.125937, time =    0.59, points =   800\n",
      "\td = 0.188406, time =    0.25, points =   367\n",
      "\td = 0.157172, time =    0.37, points =   529\n",
      "\td = 0.141555, time =    0.47, points =   654\n",
      "\td = 0.133746, time =    0.54, points =   732\n",
      "\td = 0.129842, time =    0.58, points =   778\n",
      "\td = 0.127890, time =    0.60, points =   800\n",
      "\td = 0.128866, time =    0.59, points =   788\n",
      "\td = 0.128378, time =    0.59, points =   794\n",
      "\td = 0.128134, time =    0.59, points =   797\n",
      "\td = 0.128012, time =    0.60, points =   798\n",
      "\td = 0.127951, time =    0.60, points =   799\n",
      "\td = 0.127920, time =    0.59, points =   799\n",
      "\td = 0.127905, time =    0.60, points =   800\n",
      "\td = 0.127913, time =    0.59, points =   799\n",
      "\td = 0.127909, time =    0.59, points =   799\n",
      "\td = 0.127907, time =    0.60, points =   800\n",
      "\td = 0.127908, time =    0.60, points =   800\n",
      "Total time: 0:10 sec.\n"
     ]
    }
   ],
   "source": [
    "points800 = PlacePointsOnSphere(800)"
   ]
  },
  {
   "cell_type": "code",
   "execution_count": 6,
   "id": "9407c8a7",
   "metadata": {},
   "outputs": [
    {
     "data": {
      "text/plain": [
       "'[0.1279077592, 0.1279077592] 0.0000000000'"
      ]
     },
     "execution_count": 6,
     "metadata": {},
     "output_type": "execute_result"
    }
   ],
   "source": [
    "CheckPointsOnSphere(points800)[-1]"
   ]
  },
  {
   "cell_type": "code",
   "execution_count": 7,
   "id": "7cc13ab8",
   "metadata": {},
   "outputs": [],
   "source": [
    "SaveResults(points800, '800.txt')"
   ]
  },
  {
   "cell_type": "markdown",
   "id": "e378bf90",
   "metadata": {},
   "source": [
    "64000 точек:"
   ]
  },
  {
   "cell_type": "code",
   "execution_count": 10,
   "id": "d811ed48",
   "metadata": {},
   "outputs": [
    {
     "name": "stdout",
     "output_type": "stream",
     "text": [
      "Start search points on sphere, n = 64000\n",
      "\td = 1.000500, time =    0.01, points =    12\n",
      "\td = 0.500750, time =    0.04, points =    50\n",
      "\td = 0.250875, time =    0.14, points =   207\n",
      "\td = 0.125937, time =    0.62, points =   826\n",
      "\td = 0.063469, time =    3.56, points =  3265\n",
      "\td = 0.032234, time =   30.15, points = 12674\n",
      "\td = 0.016617, time =  353.80, points = 48029\n",
      "\td = 0.008809, time =  692.70, points = 64000\n",
      "\td = 0.012713, time =  667.79, points = 64000\n",
      "\td = 0.014665, time =  585.07, points = 61555\n",
      "\td = 0.013689, time =  645.78, points = 64000\n",
      "\td = 0.014177, time =  634.95, points = 64000\n",
      "\td = 0.014421, time =  623.60, points = 63844\n",
      "\td = 0.014299, time =  628.24, points = 64000\n",
      "\td = 0.014360, time =  627.11, points = 64000\n",
      "\td = 0.014391, time =  628.18, points = 64000\n",
      "\td = 0.014406, time =  625.68, points = 64000\n",
      "\td = 0.014413, time =  626.18, points = 63915\n",
      "\td = 0.014410, time =  639.06, points = 64000\n",
      "\td = 0.014411, time =  636.19, points = 64000\n",
      "\td = 0.014412, time =  634.58, points = 64000\n",
      "Total time: 154:43 sec.\n"
     ]
    }
   ],
   "source": [
    "points64000 = PlacePointsOnSphere(64000)"
   ]
  },
  {
   "cell_type": "code",
   "execution_count": 11,
   "id": "91300e2d",
   "metadata": {},
   "outputs": [],
   "source": [
    "SaveResults(points64000, '64000.txt')"
   ]
  },
  {
   "cell_type": "code",
   "execution_count": 24,
   "id": "5dc94c2e",
   "metadata": {},
   "outputs": [
    {
     "data": {
      "text/plain": [
       "'[0.0144124403, 0.0144124417] 0.0000000014'"
      ]
     },
     "execution_count": 24,
     "metadata": {},
     "output_type": "execute_result"
    }
   ],
   "source": [
    "CheckPointsOnSphere(points64000)[2]"
   ]
  },
  {
   "cell_type": "markdown",
   "id": "924030f3",
   "metadata": {},
   "source": [
    "При радиусе Земли 6371 км расстояние между точками будет примерно 92 км."
   ]
  },
  {
   "cell_type": "markdown",
   "id": "bd77e950",
   "metadata": {},
   "source": [
    "Попробуем сделаеть оценку на расстояние. Для этого приближенно будем считать, что удалось покрыть всю поверхность равными правильными треугольниками и в каждой точке сходится 6 таких треугольников (такое невозможно конечно). При фиксированном $d$ найдем площадь одного сферического треугольника, она равна:\n",
    "$$ S = \\alpha + \\beta + \\gamma - \\pi$$\n",
    "Количество треугольников приближенно будет равно:\n",
    "$$ \\frac{4\\pi}{S}$$\n",
    "Количество вершин будет в 2 раза меньше. Далее, методом деления пополам подбираем $d$ чтобы получилось нужное количество точек."
   ]
  },
  {
   "cell_type": "code",
   "execution_count": 25,
   "id": "926930b6",
   "metadata": {},
   "outputs": [
    {
     "data": {
      "text/plain": [
       "0.015057118214130402"
      ]
     },
     "execution_count": 25,
     "metadata": {},
     "output_type": "execute_result"
    }
   ],
   "source": [
    "def GetThereoticalD(n):\n",
    "    def GetNormTo(a, b):\n",
    "        r = b - a.dot(b) / a.dot(a) * a\n",
    "        return r / np.linalg.norm(r)\n",
    "\n",
    "    def GetVertexCountByD(d):\n",
    "        a, b = GetStartPoints(d)\n",
    "        c = GetPointsOnDistanceD(a, b, d)[0]\n",
    "        nab, nac = GetNormTo(c, a), GetNormTo(c, b)\n",
    "        st = 3 * np.arccos(nab.dot(nac)) - np.pi\n",
    "        ss = 4 * np.pi\n",
    "        return ss / st / 2\n",
    "    \n",
    "    d1, d2 = 1e-6, 1.0\n",
    "    eps = 1e-6\n",
    "    while d2 - d1 > eps:\n",
    "        d = (d1 + d2) / 2\n",
    "        if GetVertexCountByD(d) > n:\n",
    "            d1 = d\n",
    "        else:\n",
    "            d2 = d\n",
    "    return (d1 + d2) / 2\n",
    "    \n",
    "GetThereoticalD(64000)"
   ]
  },
  {
   "cell_type": "markdown",
   "id": "f30884c7",
   "metadata": {},
   "source": [
    "Это значение примерно на 4.5% больше."
   ]
  },
  {
   "cell_type": "markdown",
   "id": "de5a69b5",
   "metadata": {},
   "source": [
    "Визуализируем расположение точек на сфере в окрестностях некоторых фиксированных точек."
   ]
  },
  {
   "cell_type": "code",
   "execution_count": 26,
   "id": "ba04c519",
   "metadata": {},
   "outputs": [],
   "source": [
    "def PlotPointsProjection(ax, points, main_vector, delta=0.9, color='b', marker='o'):\n",
    "    selected = points[np.sum(points * main_vector[None,:], axis=1) > delta]\n",
    "    e1 = np.cross(main_vector, np.random.normal(size=3))\n",
    "    e1 = e1 / np.linalg.norm(e1)\n",
    "    e2 = np.cross(main_vector, e1)\n",
    "    e2 = e2 / np.linalg.norm(e2)\n",
    "    \n",
    "    xs = np.sum(selected * e1[None,:], axis=1)\n",
    "    ys = np.sum(selected * e2[None,:], axis=1)\n",
    "    \n",
    "    ax.scatter(xs, ys, c=color, marker=marker)\n",
    "    if str(type(plt)) == \"<class 'module'>\":\n",
    "        plt.title(f'{main_vector}')\n",
    "    else:\n",
    "        ax.set_title(f'{main_vector}')\n",
    "    \n",
    "def PlotPointsForProjection(points, delta=0.9):\n",
    "    fig, axs = plt.subplots(2, 2, figsize=(12,12))\n",
    "    PlotPointsProjection(axs[0,0], points, np.array([ 1,  0, 0]), delta=delta)\n",
    "    PlotPointsProjection(axs[0,1], points, np.array([-1,  0, 0]), delta=delta)\n",
    "    PlotPointsProjection(axs[1,0], points, np.array([ 0,  0, 1]), delta=delta)\n",
    "    PlotPointsProjection(axs[1,1], points, np.array([ 0, -1, 0]), delta=delta)"
   ]
  },
  {
   "cell_type": "code",
   "execution_count": 27,
   "id": "0e1b901e",
   "metadata": {},
   "outputs": [
    {
     "data": {
      "image/png": "[encoded data removed]",
      "text/plain": [
       "<Figure size 864x864 with 4 Axes>"
      ]
     },
     "metadata": {
      "needs_background": "light"
     },
     "output_type": "display_data"
    }
   ],
   "source": [
    "PlotPointsForProjection(points64000, delta=0.99)"
   ]
  },
  {
   "cell_type": "markdown",
   "id": "9fee8418",
   "metadata": {},
   "source": [
    "### Итоги:\n",
    "- Результаты на правильном икосаэдре и сравнение с теоретической оценкой на большом $N$ дают основания полагать, что алгоритм работает относительно правильно.\n",
    "- Время работы на одно итерации около 10 минут. Можно значительно ускорить, в том числе если использовать быстрый поиск точек в окрестности использую KdTree.\n",
    "- Есть эффект \"озоновой\" дыры в районе точки противоположной начальной."
   ]
  },
  {
   "cell_type": "markdown",
   "id": "ffa83cd7",
   "metadata": {},
   "source": [
    "### Другие идеи\n",
    "Первоначально рассматривал идею следующего алгоритма:\n",
    "- Генерируем выборку $kN$ точек из равномерного распределения на сфере ($k$ некий параметр). Если не ошибаюсь, это распределение можно получить следующим образом. Генерируем $x,y,z \\sim N(0,1)$, далее нормируем 3 координаты чтобы попасть на сферу.\n",
    "- Запускаем процедуру объединения ближко лежащих друг к другу точек пока не останется $N$ точек.\n",
    "- Далее представляем эти точки как систему механических точек с отталкивающими силами и запускаем расчет их движения. Тут надо подобрать удачный закон взаимодействия точек."
   ]
  },
  {
   "cell_type": "markdown",
   "id": "034bf37f",
   "metadata": {},
   "source": [
    "## Часть 2. Раскраска точек"
   ]
  },
  {
   "cell_type": "code",
   "execution_count": 2,
   "id": "ebe11110",
   "metadata": {},
   "outputs": [],
   "source": [
    "def LoadResults(filename):\n",
    "    f = open(filename)\n",
    "    lines = f.readlines()\n",
    "    n = len(lines)\n",
    "    result = np.zeros((n,3))\n",
    "    for i in range(n):\n",
    "        result[i] = np.array(list(map(float, lines[i].strip().split())))\n",
    "    f.close()\n",
    "    return result\n",
    "\n",
    "def SortByLengthFromFirst(data):\n",
    "    n = data.shape[0]\n",
    "    result = np.zeros((n,4))\n",
    "    result[:,1:] = data\n",
    "    result[:,0] = np.sum((data - data[0,:])**2, axis=1)\n",
    "    return np.array(sorted([list(r) for r in result]))[:,1:]"
   ]
  },
  {
   "cell_type": "markdown",
   "id": "cbc2e85a",
   "metadata": {},
   "source": [
    "Загрузим расставленные в первой части точки на сфере"
   ]
  },
  {
   "cell_type": "code",
   "execution_count": 3,
   "id": "1577b9d3",
   "metadata": {},
   "outputs": [],
   "source": [
    "points, k = SortByLengthFromFirst(LoadResults('64000.txt')), 1008\n",
    "n = points.shape[0]"
   ]
  },
  {
   "cell_type": "markdown",
   "id": "11488a20",
   "metadata": {},
   "source": [
    "Для каждой точки найдем k-ую по удаленности точку. Найдем минимум по всем расстояниям до k-ой точки."
   ]
  },
  {
   "cell_type": "code",
   "execution_count": 5,
   "id": "238ae11f",
   "metadata": {},
   "outputs": [
    {
     "name": "stdout",
     "output_type": "stream",
     "text": [
      "Время поиска минимального расстояния: 260.84517908096313     \n"
     ]
    }
   ],
   "source": [
    "def GetMinDist(points, k, batch_size=500, verbose=True):\n",
    "    t_start = time.time()\n",
    "    n = points.shape[0]\n",
    "    p1 = 0\n",
    "    min_dist = 100.0\n",
    "    while p1 < n:\n",
    "        p2 = p1 + batch_size\n",
    "        dists = np.sum((points[p1:p2,None,:] - points[None,:,:])**2, axis=2)\n",
    "        quants = np.quantile(dists, (k + 1) / n, axis=1)\n",
    "        cur = np.min(quants)\n",
    "        min_dist = min(min_dist, cur)\n",
    "        if verbose:\n",
    "            print(f'\\r{p1:5d} {cur:8.6f} {min_dist:8.6f}', end='')\n",
    "        p1 = p2\n",
    "    if verbose:\n",
    "        print('\\r', ' ' * 60, end='\\r')\n",
    "        print(f'Время поиска минимального расстояния: {time.time() - t_start}')\n",
    "    return min_dist\n",
    "\n",
    "min_dist = GetMinDist(points, k)"
   ]
  },
  {
   "cell_type": "code",
   "execution_count": 14,
   "id": "4f914064",
   "metadata": {
    "scrolled": true
   },
   "outputs": [
    {
     "name": "stdout",
     "output_type": "stream",
     "text": [
      "Оценка сверху на расстояние: 0.2402349293459649\n"
     ]
    }
   ],
   "source": [
    "print(f'Оценка сверху на расстояние: {min_dist**0.5}')"
   ]
  },
  {
   "cell_type": "markdown",
   "id": "556ce522",
   "metadata": {},
   "source": [
    "Лучше чем это значение мы не найдем"
   ]
  },
  {
   "cell_type": "markdown",
   "id": "acf001b1",
   "metadata": {},
   "source": [
    "Построим граф с ребрами, длины которых меньше этого значения"
   ]
  },
  {
   "cell_type": "code",
   "execution_count": 7,
   "id": "3284220e",
   "metadata": {},
   "outputs": [
    {
     "name": "stdout",
     "output_type": "stream",
     "text": [
      "Время построения графа: 240.51024651527405                   \n"
     ]
    }
   ],
   "source": [
    "class Graph:\n",
    "    def __init__(self, size):\n",
    "        self.size = size\n",
    "        self.edges = [dict() for _ in range(size)]\n",
    "    \n",
    "    def AddEdge(self, u, v, dist):\n",
    "        self.edges[u][v] = dist\n",
    "        self.edges[v][u] = dist\n",
    "        \n",
    "def BuildGraph(points, min_dist, batch_size=500, verbose=True):\n",
    "    t_start = time.time()\n",
    "    n = points.shape[0]\n",
    "    graph = Graph(n)\n",
    "    p1 = 0\n",
    "    while p1 < n:\n",
    "        p2 = p1 + batch_size\n",
    "        dists = np.sum((points[p1:p2,None,:] - points[None,:,:])**2, axis=2)\n",
    "        for i in range(p1, p2):\n",
    "            candidates = np.where(dists[i - p1] < min_dist)\n",
    "            for j in candidates[0]:\n",
    "                if i != j:\n",
    "                    graph.AddEdge(i, j, dists[i - p1][j] ** 0.5)\n",
    "        if verbose:\n",
    "            print(f'\\r{p1:5d}', end='')\n",
    "        p1 = p2\n",
    "        #break\n",
    "    \n",
    "    if verbose:\n",
    "        print('\\r', ' ' * 60, end='\\r')\n",
    "        print(f'Время построения графа: {time.time() - t_start}')\n",
    "    return graph\n",
    "        \n",
    "graph = BuildGraph(points, min_dist)"
   ]
  },
  {
   "cell_type": "markdown",
   "id": "b41beeb3",
   "metadata": {},
   "source": [
    "Жадный алгоритм. Начинаем со стартовой точки, далее берем точки в порядке удаленности от стартовой точки. Для первых k точек ставим неиспользованный еще цвет. Для остальных выбираем такой цвет, чтобы расстояние до точек этого цвета было максимальным.\n",
    "\n",
    "Планировал использовать это как начальное состояние для метода отжига, но оказалось, что оно дает оптимальное решение."
   ]
  },
  {
   "cell_type": "code",
   "execution_count": 8,
   "id": "e5709af5",
   "metadata": {},
   "outputs": [
    {
     "name": "stdout",
     "output_type": "stream",
     "text": [
      "Время построения жадного решения: 26.803895711898804         \n"
     ]
    }
   ],
   "source": [
    "def BuildGreedyColors(graph, color_count, verbose=True):\n",
    "    t_start = time.time()\n",
    "    colors = np.zeros(graph.size, dtype=np.int32)\n",
    "    for i in range(color_count):\n",
    "        colors[i] = i\n",
    "    for i in range(color_count, graph.size):\n",
    "        if verbose and i % 1000 == 0:\n",
    "            print(f'\\r{i:5d}', end='')\n",
    "            \n",
    "        candidates = np.ones(color_count, dtype=np.float32) * 100\n",
    "        for j, d in graph.edges[i].items():\n",
    "            if j < i:\n",
    "                candidates[colors[j]] = min(candidates[colors[j]], d)\n",
    "        cur_color = np.argmax(candidates)\n",
    "        colors[i] = cur_color\n",
    "        \n",
    "    if verbose:\n",
    "        print('\\r', ' ' * 60, end='\\r')\n",
    "        print(f'Время построения жадного решения: {time.time() - t_start}')\n",
    "    return colors\n",
    "\n",
    "colors = BuildGreedyColors(graph, k)"
   ]
  },
  {
   "cell_type": "code",
   "execution_count": 9,
   "id": "1fd3afeb",
   "metadata": {},
   "outputs": [],
   "source": [
    "def SaveToFileWithColors(points, colors, filename):\n",
    "    f = open(filename, 'w')\n",
    "    for i in range(len(colors)):\n",
    "        f.write(f'{points[i][0]} {points[i][1]} {points[i][2]} {colors[i] + 1}\\n')\n",
    "    f.close()\n",
    "    \n",
    "SaveToFileWithColors(points, colors, '64000_1008.txt')"
   ]
  },
  {
   "cell_type": "markdown",
   "id": "791fa83b",
   "metadata": {},
   "source": [
    "Выполним различные проверки для полученного решения"
   ]
  },
  {
   "cell_type": "code",
   "execution_count": 12,
   "id": "27174bbe",
   "metadata": {},
   "outputs": [
    {
     "name": "stdout",
     "output_type": "stream",
     "text": [
      "Файл:   64000_1008.txt\n",
      "Точек:  64000\n",
      "Цветов: 1008\n",
      "\n",
      "Отклонение от сферы максимальное: 1.1920928955078125e-07\n",
      "Минимальное расстояние между 2 точками: 0.014412368517219679\n",
      "Минимальное расстояние между точками одного цвета: 0.2402349410011633\n"
     ]
    }
   ],
   "source": [
    "def CheckResultsFromFile(filename):\n",
    "    f = open(filename)\n",
    "    lines = f.readlines()\n",
    "    n = len(lines)\n",
    "    print(f'Файл:   {filename}\\nТочек:  {n}')\n",
    "    \n",
    "    points = np.zeros((n,3), dtype=np.float32)\n",
    "    colors = np.zeros(n, dtype=np.int32)\n",
    "    for i in range(n):\n",
    "        points[i,:] = np.array(list(map(float, lines[i].split()[:3])))\n",
    "        colors[i] = int(lines[i].strip().split()[-1]) - 1\n",
    "    k = np.max(colors) + 1\n",
    "    print(f'Цветов: {k}')\n",
    "    \n",
    "    # Найдем отклонения от сферы\n",
    "    diff_sphere = np.max(np.abs(np.sum(points**2, axis=1) - 1))\n",
    "    print(f'\\nОтклонение от сферы максимальное: {diff_sphere}')\n",
    "    \n",
    "    # Найдем минимальное расстояние между парами точек\n",
    "    p1 = 0\n",
    "    batch_size = 1000\n",
    "    min_points_dist = 1000\n",
    "    while p1 < n:\n",
    "        print(f'\\r{p1:5d}', end='')\n",
    "        p2 = p1 + batch_size\n",
    "        dists = np.sum((points[p1:p2,None,:] - points[None,:,:])**2, axis=2)\n",
    "        dists[:,p1:p1 + dists.shape[0]] += np.eye(dists.shape[0])\n",
    "        min_points_dist = min(min_points_dist, dists.min())\n",
    "        p1 = p2\n",
    "    min_points_dist = min_points_dist**0.5\n",
    "    print(f'\\rМинимальное расстояние между 2 точками: {min_points_dist}')\n",
    "    \n",
    "    # Найдем минимальное расстояние между точками одного цвета\n",
    "    points_by_colors = [[] for _ in range(k)]\n",
    "    for i in range(n):\n",
    "        points_by_colors[colors[i]].append(points[i])\n",
    "    min_dist_color = 100.0\n",
    "    for color in range(k):\n",
    "        p = np.array(points_by_colors[color])\n",
    "        dists = np.sum((p[:,None,:] - p[None,:,:])**2, axis=2) + np.eye(p.shape[0])\n",
    "        min_dist_color = min(min_dist_color, dists.min())\n",
    "    min_dist_color = min_dist_color ** 0.5\n",
    "    print(f'Минимальное расстояние между точками одного цвета: {min_dist_color}')\n",
    "\n",
    "CheckResultsFromFile('64000_1008.txt')"
   ]
  }
 ],
 "metadata": {
  "kernelspec": {
   "display_name": "Python 3",
   "language": "python",
   "name": "python3"
  },
  "language_info": {
   "codemirror_mode": {
    "name": "ipython",
    "version": 3
   },
   "file_extension": ".py",
   "mimetype": "text/x-python",
   "name": "python",
   "nbconvert_exporter": "python",
   "pygments_lexer": "ipython3",
   "version": "3.8.8"
  }
 },
 "nbformat": 4,
 "nbformat_minor": 5
}
